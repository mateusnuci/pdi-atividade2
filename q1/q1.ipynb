{
 "cells": [
  {
   "cell_type": "code",
   "execution_count": 1,
   "metadata": {},
   "outputs": [],
   "source": [
    "import cv2\n",
    "import matplotlib.pyplot as plt\n",
    "import numpy as np"
   ]
  },
  {
   "cell_type": "code",
   "execution_count": 2,
   "metadata": {},
   "outputs": [],
   "source": [
    "## implementar a função que identifica a bandeira\n",
    "## a função deve receber uma imagem e retornar a bandeira identificada\n",
    "## a função deve retornar uma lista de tuplas, onde cada tupla contém as coordenadas de um dos cantos da bandeira\n",
    "## [(PAIS, (x1, y2), (x2, y2)`),(PAIS, (x1, y2), (x2, y2)`),(PAIS, (x1, y2), (x2, y2)`),...]\n",
    "paises = {\n",
    "    \"Peru\": [(15, 20, 220), (255, 255, 255)],\n",
    "    \"Singapura\": [(50, 40, 240), (255, 255, 255)],\n",
    "    \"Monaco\": [(40, 20, 210), (255, 255, 255)],\n",
    "    \"Italia\": [(50, 140, 0), (55, 40, 210)],\n",
    "    \"Irlanda\": [(100, 155, 20), (60, 135, 255)]\n",
    "}\n",
    "\n",
    "\n",
    "def detectar_contornos(img):\n",
    "    gray = cv2.cvtColor(img, cv2.COLOR_BGR2GRAY)\n",
    "    _, mascara = cv2.threshold(gray, 10, 255, cv2.THRESH_BINARY)\n",
    "    contornos, _ = cv2.findContours(mascara, cv2.RETR_EXTERNAL, cv2.CHAIN_APPROX_SIMPLE)\n",
    "    return contornos\n",
    "\n",
    "def verificar_cores(roi, cores, tolerancia=20, limite_fração=0.1):\n",
    "    total_pixels = roi.shape[0] * roi.shape[1]\n",
    "    limite_area = limite_fração * total_pixels\n",
    "    \n",
    "    for cor in cores:\n",
    "        lower = np.clip(np.array(cor) - tolerancia, 0, 255)\n",
    "        upper = np.clip(np.array(cor) + tolerancia, 0, 255)\n",
    "        \n",
    "        mascara = np.all((roi >= lower) & (roi <= upper), axis=-1)\n",
    "        quantidade_pixels = np.count_nonzero(mascara)\n",
    "        \n",
    "        if quantidade_pixels <= limite_area:\n",
    "            return False\n",
    "    \n",
    "    return True\n",
    "\n",
    "def identifica_bandeira(img):\n",
    "    resultados = []\n",
    "    contornos = detectar_contornos(img)\n",
    "\n",
    "    for contorno in contornos:\n",
    "        x, y, w, h = cv2.boundingRect(contorno)\n",
    "        \n",
    "        roi = img[y:y+h, x:x+w]        \n",
    "        for nome_pais, cores in paises.items():\n",
    "            if verificar_cores(roi, cores):\n",
    "                pais = nome_pais\n",
    "                break\n",
    "        \n",
    "        resultados.append((pais, (x, y), (x + w, y + h)))\n",
    "\n",
    "    return resultados\n",
    "\n"
   ]
  },
  {
   "cell_type": "code",
   "execution_count": 3,
   "metadata": {},
   "outputs": [],
   "source": [
    "## nao alterar essa função\n",
    "# Função para desenhar as bandeiras identificadas\n",
    "def draw_bandeiras(lista_bandeiras, bgr):\n",
    "    try:\n",
    "        for bandeira in lista_bandeiras:\n",
    "            cv2.rectangle(bgr, bandeira[1], bandeira[2], (255, 0, 0), 5)\n",
    "            cv2.putText(bgr, bandeira[0], bandeira[1], cv2.FONT_HERSHEY_SIMPLEX, 1, (255, 0, 0), 2, cv2.LINE_AA)\n",
    "        return bgr\n",
    "    except Exception as e:\n",
    "        return bgr"
   ]
  },
  {
   "cell_type": "code",
   "execution_count": 5,
   "metadata": {},
   "outputs": [
    {
     "name": "stdout",
     "output_type": "stream",
     "text": [
      "[('Irlanda', (705, 589), (971, 723)), ('Italia', (343, 298), (608, 475))]\n"
     ]
    },
    {
     "data": {
      "image/png": "[encoded data removed]",
      "text/plain": [
       "<Figure size 640x480 with 1 Axes>"
      ]
     },
     "metadata": {},
     "output_type": "display_data"
    }
   ],
   "source": [
    "## Para testar a função identifica_bandeira\n",
    "\n",
    "# Você pode testar a função identifica_bandeira com as imagens de teste fornecidas\n",
    "# \n",
    "# img = cv2.imread('img/teste1.png')\n",
    "img = cv2.imread('img/teste2.png')\n",
    "# img = cv2.imread('img/teste3.png')\n",
    "# img = cv2.imread('img/teste4.png')\n",
    "\n",
    "# Chamar a função identifica_bandeira\n",
    "resultado = identifica_bandeira(img)\n",
    "\n",
    "# Imprimir o resultado da função identifica_bandeira \n",
    "print(resultado)\n",
    "\n",
    "# Desenhar as bandeiras na imagem\n",
    "bgr = draw_bandeiras(resultado, img)\n",
    "plt.imshow(cv2.cvtColor(bgr, cv2.COLOR_BGR2RGB))\n",
    "plt.show()\n",
    "\n",
    "\n"
   ]
  }
 ],
 "metadata": {
  "kernelspec": {
   "display_name": "Python 3",
   "language": "python",
   "name": "python3"
  },
  "language_info": {
   "codemirror_mode": {
    "name": "ipython",
    "version": 3
   },
   "file_extension": ".py",
   "mimetype": "text/x-python",
   "name": "python",
   "nbconvert_exporter": "python",
   "pygments_lexer": "ipython3",
   "version": "3.13.2"
  }
 },
 "nbformat": 4,
 "nbformat_minor": 2
}
